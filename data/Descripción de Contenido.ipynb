{
 "cells": [
  {
   "cell_type": "code",
   "execution_count": 1,
   "metadata": {},
   "outputs": [
    {
     "name": "stdout",
     "output_type": "stream",
     "text": [
      "[nltk_data] Downloading package stopwords to\n",
      "[nltk_data]     /Users/ppercca/nltk_data...\n",
      "[nltk_data]   Package stopwords is already up-to-date!\n",
      "[nltk_data] Downloading package punkt to /Users/ppercca/nltk_data...\n",
      "[nltk_data]   Package punkt is already up-to-date!\n"
     ]
    }
   ],
   "source": [
    "import pandas as pd\n",
    "import numpy as np\n",
    "import matplotlib as mpl\n",
    "import matplotlib.pyplot as plt\n",
    "import seaborn as sns\n",
    "import nltk\n",
    "nltk.download('stopwords')\n",
    "nltk.download('punkt')\n",
    "from nltk.corpus import stopwords\n",
    "from nltk.tokenize import RegexpTokenizer\n",
    "%matplotlib inline"
   ]
  },
  {
   "cell_type": "code",
   "execution_count": 2,
   "metadata": {},
   "outputs": [],
   "source": [
    "df = pd.read_csv('Reviews_Movies.csv', delimiter = '\\t', quoting = 3)"
   ]
  },
  {
   "cell_type": "code",
   "execution_count": 3,
   "metadata": {},
   "outputs": [
    {
     "data": {
      "text/plain": [
       "(25000, 2)"
      ]
     },
     "execution_count": 3,
     "metadata": {},
     "output_type": "execute_result"
    }
   ],
   "source": [
    "df.shape"
   ]
  },
  {
   "cell_type": "code",
   "execution_count": 31,
   "metadata": {},
   "outputs": [
    {
     "data": {
      "text/plain": [
       "'i find it so amazing that even after all these years  we are still talking about this movie  obviously this movie wasn  t that bad or else people wouldn  t even bother to talk about it . i personally enjoyed this film immensly  and still do  i guess this film isn  t for everyone  but it certainly did touch the hearts of many .  br    br   as for those that think that this film is  overrated  or  over  hyped  . . . well  we only have the movie  going public to thank for that  lol you see  it  s not critics  article writers that make a film  huge  or a  hit  with the general movie  going public . people make the film a huge success . with titanic  everyone was in awe . let  s face it  a film like this had never been made before . at least not with the type of special effects needed to really capture the essence of the ship actually sinking . this film is so accurate that even james cameron timed the actual sinking of the ship in the film with the real sinking that fateful day in april     . even the silverware for goodness sakes matched   br    br   give this movie a break you guys  the critics thought this movie would sink big time  when this movie actually came out and people started hearing by word of mouth  which is the best form of advertisement mind you  that this was a good  decent  movie worth seeing  then everyone started flocking to the theaters in droves to see this movie . . . not once  not twice  but maybe  times and more  so  i really wouldn  t say that this movie was  overhyped  . . . at least not like the buildup for the matrix reloaded or the hulk is being  overhyped  . ha  critics didn  t even think that titanic would make enough money to cover cameron  s gigantic film budget that it took to make this mammoth of a film . however  the films money took care of that    million budget and much more   br    br   personally  i love this film . however  this film might not be for everyone . don  t say that this film sucks just because of romance though  that is the most sexist thing i  ve ever heard  disliking a movie just because it has romance in it  the story was sweet . the dialogue could have been better  but let  s face it . . . the real star of the movie wasn  t leo or kate . . . it was that gigantic ship  i think all of the actors including dicaprio and winslet did a fine job . it  s not thier best work  i  ve seen much better work from both of them  but it wasn  t the worst i  ve seen on screen before . give them a break   br    br    '"
      ]
     },
     "execution_count": 31,
     "metadata": {},
     "output_type": "execute_result"
    }
   ],
   "source": [
    "df['Review'][100]"
   ]
  },
  {
   "cell_type": "code",
   "execution_count": 4,
   "metadata": {},
   "outputs": [
    {
     "data": {
      "text/plain": [
       "<matplotlib.axes._subplots.AxesSubplot at 0x1a1f7d4c88>"
      ]
     },
     "execution_count": 4,
     "metadata": {},
     "output_type": "execute_result"
    },
    {
     "data": {
      "image/png": "[encoded data removed]",
      "text/plain": [
       "<Figure size 432x288 with 1 Axes>"
      ]
     },
     "metadata": {
      "needs_background": "light"
     },
     "output_type": "display_data"
    }
   ],
   "source": [
    "df[\"Liked\"].hist()"
   ]
  },
  {
   "cell_type": "code",
   "execution_count": 5,
   "metadata": {},
   "outputs": [
    {
     "data": {
      "text/html": [
       "<div>\n",
       "<style scoped>\n",
       "    .dataframe tbody tr th:only-of-type {\n",
       "        vertical-align: middle;\n",
       "    }\n",
       "\n",
       "    .dataframe tbody tr th {\n",
       "        vertical-align: top;\n",
       "    }\n",
       "\n",
       "    .dataframe thead th {\n",
       "        text-align: right;\n",
       "    }\n",
       "</style>\n",
       "<table border=\"1\" class=\"dataframe\">\n",
       "  <thead>\n",
       "    <tr style=\"text-align: right;\">\n",
       "      <th></th>\n",
       "      <th>Review</th>\n",
       "      <th>Liked</th>\n",
       "    </tr>\n",
       "  </thead>\n",
       "  <tbody>\n",
       "    <tr>\n",
       "      <th>0</th>\n",
       "      <td>bromwell high is a cartoon comedy . it ran at ...</td>\n",
       "      <td>1</td>\n",
       "    </tr>\n",
       "    <tr>\n",
       "      <th>1</th>\n",
       "      <td>story of a man who has unnatural feelings for ...</td>\n",
       "      <td>0</td>\n",
       "    </tr>\n",
       "    <tr>\n",
       "      <th>2</th>\n",
       "      <td>homelessness  or houselessness as george carli...</td>\n",
       "      <td>1</td>\n",
       "    </tr>\n",
       "    <tr>\n",
       "      <th>3</th>\n",
       "      <td>airport    starts as a brand new luxury    pla...</td>\n",
       "      <td>0</td>\n",
       "    </tr>\n",
       "    <tr>\n",
       "      <th>4</th>\n",
       "      <td>brilliant over  acting by lesley ann warren . ...</td>\n",
       "      <td>1</td>\n",
       "    </tr>\n",
       "  </tbody>\n",
       "</table>\n",
       "</div>"
      ],
      "text/plain": [
       "                                              Review  Liked\n",
       "0  bromwell high is a cartoon comedy . it ran at ...      1\n",
       "1  story of a man who has unnatural feelings for ...      0\n",
       "2  homelessness  or houselessness as george carli...      1\n",
       "3  airport    starts as a brand new luxury    pla...      0\n",
       "4  brilliant over  acting by lesley ann warren . ...      1"
      ]
     },
     "execution_count": 5,
     "metadata": {},
     "output_type": "execute_result"
    }
   ],
   "source": [
    "df.head()"
   ]
  },
  {
   "cell_type": "code",
   "execution_count": 6,
   "metadata": {},
   "outputs": [
    {
     "name": "stdout",
     "output_type": "stream",
     "text": [
      "<class 'pandas.core.frame.DataFrame'>\n",
      "RangeIndex: 25000 entries, 0 to 24999\n",
      "Data columns (total 2 columns):\n",
      "Review    25000 non-null object\n",
      "Liked     25000 non-null int64\n",
      "dtypes: int64(1), object(1)\n",
      "memory usage: 390.7+ KB\n"
     ]
    }
   ],
   "source": [
    "df.info()"
   ]
  },
  {
   "cell_type": "code",
   "execution_count": 7,
   "metadata": {},
   "outputs": [
    {
     "data": {
      "text/html": [
       "<div>\n",
       "<style scoped>\n",
       "    .dataframe tbody tr th:only-of-type {\n",
       "        vertical-align: middle;\n",
       "    }\n",
       "\n",
       "    .dataframe tbody tr th {\n",
       "        vertical-align: top;\n",
       "    }\n",
       "\n",
       "    .dataframe thead th {\n",
       "        text-align: right;\n",
       "    }\n",
       "</style>\n",
       "<table border=\"1\" class=\"dataframe\">\n",
       "  <thead>\n",
       "    <tr style=\"text-align: right;\">\n",
       "      <th></th>\n",
       "      <th>Liked</th>\n",
       "    </tr>\n",
       "  </thead>\n",
       "  <tbody>\n",
       "    <tr>\n",
       "      <th>count</th>\n",
       "      <td>25000.00000</td>\n",
       "    </tr>\n",
       "    <tr>\n",
       "      <th>mean</th>\n",
       "      <td>0.50000</td>\n",
       "    </tr>\n",
       "    <tr>\n",
       "      <th>std</th>\n",
       "      <td>0.50001</td>\n",
       "    </tr>\n",
       "    <tr>\n",
       "      <th>min</th>\n",
       "      <td>0.00000</td>\n",
       "    </tr>\n",
       "    <tr>\n",
       "      <th>25%</th>\n",
       "      <td>0.00000</td>\n",
       "    </tr>\n",
       "    <tr>\n",
       "      <th>50%</th>\n",
       "      <td>0.50000</td>\n",
       "    </tr>\n",
       "    <tr>\n",
       "      <th>75%</th>\n",
       "      <td>1.00000</td>\n",
       "    </tr>\n",
       "    <tr>\n",
       "      <th>max</th>\n",
       "      <td>1.00000</td>\n",
       "    </tr>\n",
       "  </tbody>\n",
       "</table>\n",
       "</div>"
      ],
      "text/plain": [
       "             Liked\n",
       "count  25000.00000\n",
       "mean       0.50000\n",
       "std        0.50001\n",
       "min        0.00000\n",
       "25%        0.00000\n",
       "50%        0.50000\n",
       "75%        1.00000\n",
       "max        1.00000"
      ]
     },
     "execution_count": 7,
     "metadata": {},
     "output_type": "execute_result"
    }
   ],
   "source": [
    "df.describe()"
   ]
  },
  {
   "cell_type": "code",
   "execution_count": 8,
   "metadata": {},
   "outputs": [
    {
     "name": "stdout",
     "output_type": "stream",
     "text": [
      "                                              Review  Liked  Number of Words\n",
      "0  bromwell high is a cartoon comedy . it ran at ...      1              140\n",
      "1  story of a man who has unnatural feelings for ...      0              114\n",
      "2  homelessness  or houselessness as george carli...      1              447\n",
      "3  airport    starts as a brand new luxury    pla...      0              786\n",
      "4  brilliant over  acting by lesley ann warren . ...      1              150\n"
     ]
    }
   ],
   "source": [
    "df['Number of Words'] = df['Review'].apply(RegexpTokenizer(r'\\w+').tokenize).apply(len)\n",
    "print(df.head())"
   ]
  },
  {
   "cell_type": "code",
   "execution_count": 9,
   "metadata": {},
   "outputs": [
    {
     "data": {
      "text/plain": [
       "<seaborn.axisgrid.FacetGrid at 0x1a20a01240>"
      ]
     },
     "execution_count": 9,
     "metadata": {},
     "output_type": "execute_result"
    },
    {
     "data": {
      "image/png": "[encoded data removed]",
      "text/plain": [
       "<Figure size 432x216 with 2 Axes>"
      ]
     },
     "metadata": {
      "needs_background": "light"
     },
     "output_type": "display_data"
    }
   ],
   "source": [
    "g = sns.FacetGrid(data=df, col='Liked')\n",
    "g.map(plt.hist, 'Number of Words', bins=50)\n"
   ]
  },
  {
   "cell_type": "code",
   "execution_count": null,
   "metadata": {},
   "outputs": [],
   "source": []
  },
  {
   "cell_type": "code",
   "execution_count": 10,
   "metadata": {},
   "outputs": [
    {
     "data": {
      "text/plain": [
       "<matplotlib.axes._subplots.AxesSubplot at 0x1a341589e8>"
      ]
     },
     "execution_count": 10,
     "metadata": {},
     "output_type": "execute_result"
    },
    {
     "data": {
      "image/png": "[encoded data removed]",
      "text/plain": [
       "<Figure size 432x288 with 1 Axes>"
      ]
     },
     "metadata": {
      "needs_background": "light"
     },
     "output_type": "display_data"
    }
   ],
   "source": [
    "sns.boxplot(x='Liked', y='Number of Words', data=df)"
   ]
  },
  {
   "cell_type": "code",
   "execution_count": 11,
   "metadata": {},
   "outputs": [],
   "source": [
    "filtered_reviews = []\n",
    "tokened_reviews = []\n",
    "reviews = []"
   ]
  },
  {
   "cell_type": "code",
   "execution_count": 12,
   "metadata": {},
   "outputs": [],
   "source": [
    "for review in df[\"Review\"]:\n",
    "    reviews.append(review.rstrip().lower())\n",
    "    stop_words = set(stopwords.words('english'))\n",
    "\n",
    "for review in reviews:\n",
    "    word_tokens = RegexpTokenizer(r'\\w+').tokenize(review)\n",
    "    tokened_reviews.append(word_tokens)\n",
    "    filtered_review = [w for w in word_tokens if not w in stop_words]\n",
    "    filtered_review = []\n",
    "    for w in word_tokens:\n",
    "        if w not in stop_words:\n",
    "            filtered_review.append(w)\n",
    "    filtered_reviews.append(filtered_review)"
   ]
  },
  {
   "cell_type": "code",
   "execution_count": 13,
   "metadata": {},
   "outputs": [
    {
     "name": "stdout",
     "output_type": "stream",
     "text": [
      "\n",
      "------------- Cantidad promedio de palabras por comentario: -------------\n",
      "240.80784\n",
      "\n",
      "------------- Cantidad promedio de palabras filtradas por comentario: -------------\n",
      "123.57448\n"
     ]
    }
   ],
   "source": [
    "sum_tokened_reviews = 0\n",
    "sum_filtered_reviews = 0\n",
    "\n",
    "for filtered_review in filtered_reviews:\n",
    "    sum_filtered_reviews = sum_filtered_reviews + len(filtered_review)\n",
    "\n",
    "print (\"\\n------------- Cantidad promedio de palabras por comentario: -------------\")\n",
    "print (df['Number of Words'].mean())\n",
    "\n",
    "print (\"\\n------------- Cantidad promedio de palabras filtradas por comentario: -------------\")\n",
    "print (sum_filtered_reviews/len(filtered_reviews))\n"
   ]
  },
  {
   "cell_type": "code",
   "execution_count": 14,
   "metadata": {},
   "outputs": [],
   "source": [
    "filtered_positive_reviews = []\n",
    "filtered_negative_reviews = []\n",
    "positive_reviews = []\n",
    "negative_reviews = []\n",
    "# For Positive Reviews\n",
    "for review in df.loc[df[\"Liked\"]==1][\"Review\"]:\n",
    "    positive_reviews.append(review.rstrip().lower())\n",
    "    stop_words = set(stopwords.words('english'))\n",
    "\n",
    "for review in positive_reviews:\n",
    "    word_tokens = RegexpTokenizer(r'\\w+').tokenize(review)\n",
    "    filtered_positive_review = [w for w in word_tokens if not w in stop_words]\n",
    "    filtered_positive_review = []\n",
    "    for w in word_tokens:\n",
    "        if w not in stop_words:\n",
    "            filtered_positive_review.append(w)\n",
    "    filtered_positive_reviews.append(filtered_positive_review)"
   ]
  },
  {
   "cell_type": "code",
   "execution_count": 15,
   "metadata": {},
   "outputs": [],
   "source": [
    "flat_plist = [item for sublist in filtered_positive_reviews for item in sublist] "
   ]
  },
  {
   "cell_type": "code",
   "execution_count": 16,
   "metadata": {},
   "outputs": [
    {
     "name": "stdout",
     "output_type": "stream",
     "text": [
      "[('br', 49235), ('film', 20937), ('movie', 19074), ('one', 13655), ('like', 9038), ('good', 7720), ('story', 6780), ('time', 6515), ('great', 6419), ('well', 6405), ('see', 6026), ('also', 5550), ('really', 5476), ('would', 5400), ('even', 4964), ('first', 4755), ('much', 4685), ('people', 4479), ('best', 4319), ('love', 4301), ('get', 4272), ('life', 4199), ('way', 4036), ('made', 3823), ('films', 3813), ('many', 3766), ('two', 3733), ('think', 3655), ('movies', 3586), ('characters', 3560), ('character', 3514), ('man', 3460), ('show', 3432), ('watch', 3424), ('seen', 3414), ('little', 3341), ('still', 3340), ('make', 3303), ('could', 3237), ('never', 3226), ('know', 2833), ('years', 2758), ('ever', 2734), ('end', 2696), ('real', 2568), ('scene', 2567), ('back', 2547), ('though', 2475), ('new', 2458), ('go', 2440), ('acting', 2437), ('plot', 2432), ('world', 2429), ('scenes', 2427), ('say', 2414), ('makes', 2390), ('better', 2381), ('work', 2346), ('young', 2343), ('old', 2311), ('find', 2272), ('us', 2162), ('series', 2153), ('quite', 2143), ('something', 2135), ('cast', 2133), ('part', 2098), ('always', 2088), ('lot', 2087), ('another', 2075), ('actors', 2047), ('director', 2040), ('family', 2032), ('may', 1997), ('role', 1967), ('watching', 1966), ('every', 1954), ('funny', 1953), ('performance', 1928), ('bad', 1907), ('look', 1900), ('things', 1849), ('times', 1832), ('big', 1815), ('however', 1795), ('actually', 1790), ('action', 1789), ('going', 1783), ('bit', 1757), ('comedy', 1742), ('music', 1738), ('must', 1728), ('take', 1709), ('saw', 1692), ('long', 1690), ('right', 1688), ('fun', 1686), ('fact', 1684), ('excellent', 1683), ('around', 1674)]\n"
     ]
    }
   ],
   "source": [
    "from collections import Counter \n",
    "Counter = Counter(flat_plist)\n",
    "most_occur = Counter.most_common(100) \n",
    "print(most_occur)"
   ]
  },
  {
   "cell_type": "code",
   "execution_count": 17,
   "metadata": {},
   "outputs": [],
   "source": [
    "# For Negative Reviews\n",
    "for review in df.loc[df[\"Liked\"]==0][\"Review\"]:\n",
    "    negative_reviews.append(review.rstrip().lower())\n",
    "    stop_words = set(stopwords.words('english'))\n",
    "\n",
    "for review in negative_reviews:\n",
    "    word_tokens = RegexpTokenizer(r'\\w+').tokenize(review)\n",
    "    filtered_negative_review = [w for w in word_tokens if not w in stop_words]\n",
    "    filtered_negative_review = []\n",
    "    for w in word_tokens:\n",
    "        if w not in stop_words:\n",
    "            filtered_negative_review.append(w)\n",
    "    filtered_negative_reviews.append(filtered_negative_review)"
   ]
  },
  {
   "cell_type": "code",
   "execution_count": 18,
   "metadata": {},
   "outputs": [],
   "source": [
    "flat_nlist = [item for sublist in filtered_negative_reviews for item in sublist] "
   ]
  },
  {
   "cell_type": "code",
   "execution_count": 19,
   "metadata": {},
   "outputs": [
    {
     "name": "stdout",
     "output_type": "stream",
     "text": [
      "[('br', 52637), ('movie', 24965), ('film', 19218), ('one', 13134), ('like', 11238), ('even', 7687), ('good', 7423), ('bad', 7401), ('would', 7036), ('really', 6262), ('time', 6209), ('see', 5452), ('story', 5208), ('much', 5078), ('get', 5037), ('people', 4806), ('make', 4722), ('could', 4686), ('made', 4541), ('first', 4306), ('well', 4254), ('plot', 4154), ('movies', 4080), ('acting', 4056), ('way', 3989), ('think', 3643), ('also', 3608), ('characters', 3600), ('watch', 3550), ('character', 3506), ('better', 3358), ('know', 3334), ('seen', 3265), ('ever', 3263), ('never', 3259), ('two', 3173), ('little', 3096), ('films', 3077), ('nothing', 2990), ('say', 2982), ('end', 2954), ('something', 2942), ('many', 2909), ('thing', 2866), ('show', 2862), ('scene', 2816), ('scenes', 2785), ('go', 2717), ('great', 2640), ('watching', 2640), ('man', 2516), ('worst', 2480), ('actually', 2449), ('actors', 2437), ('life', 2429), ('back', 2424), ('director', 2405), ('funny', 2336), ('going', 2319), ('still', 2283), ('another', 2254), ('look', 2247), ('old', 2215), ('real', 2170), ('love', 2152), ('horror', 2150), ('want', 2141), ('minutes', 2126), ('pretty', 2115), ('best', 2094), ('though', 2091), ('script', 2074), ('work', 2027), ('every', 2025), ('seems', 2023), ('least', 2011), ('enough', 1997), ('original', 1983), ('guy', 1964), ('got', 1952), ('around', 1943), ('part', 1942), ('lot', 1892), ('anything', 1874), ('find', 1860), ('new', 1854), ('point', 1845), ('things', 1839), ('fact', 1839), ('give', 1823), ('makes', 1814), ('take', 1800), ('thought', 1798), ('whole', 1768), ('long', 1761), ('years', 1759), ('however', 1740), ('gets', 1714), ('making', 1695), ('cast', 1694)]\n"
     ]
    }
   ],
   "source": [
    "from collections import Counter \n",
    "Counter = Counter(flat_nlist)\n",
    "most_occur = Counter.most_common(100) \n",
    "print(most_occur)"
   ]
  }
 ],
 "metadata": {
  "kernelspec": {
   "display_name": "Python 3",
   "language": "python",
   "name": "python3"
  },
  "language_info": {
   "codemirror_mode": {
    "name": "ipython",
    "version": 3
   },
   "file_extension": ".py",
   "mimetype": "text/x-python",
   "name": "python",
   "nbconvert_exporter": "python",
   "pygments_lexer": "ipython3",
   "version": "3.7.0"
  }
 },
 "nbformat": 4,
 "nbformat_minor": 2
}
