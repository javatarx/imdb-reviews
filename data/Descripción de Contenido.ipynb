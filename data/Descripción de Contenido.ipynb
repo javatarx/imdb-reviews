{
 "cells": [
  {
   "cell_type": "code",
   "execution_count": 1,
   "metadata": {},
   "outputs": [],
   "source": [
    "import pandas as pd\n",
    "import numpy as np\n",
    "import matplotlib as mpl\n",
    "import matplotlib.pyplot as plt\n",
    "\n",
    "%matplotlib inline\n",
    "plt.style.use('ggplot')"
   ]
  },
  {
   "cell_type": "code",
   "execution_count": 2,
   "metadata": {},
   "outputs": [
    {
     "name": "stdout",
     "output_type": "stream",
     "text": [
      "<class 'pandas.core.frame.DataFrame'>\n",
      "Index: 36400 entries, 61d6837c-149a-45be-942f-24c2e54a0103 to 345a734f-9f42-41ea-9b17-8e74fc0f2b5f\n",
      "Data columns (total 4 columns):\n",
      "movie      36400 non-null object\n",
      "title      36400 non-null object\n",
      "comment    36400 non-null object\n",
      "rating     36400 non-null int64\n",
      "dtypes: int64(1), object(3)\n",
      "memory usage: 1.4+ MB\n"
     ]
    }
   ],
   "source": [
    "df = pd.read_csv('reviews.csv', index_col=0)\n",
    "df.info()"
   ]
  },
  {
   "cell_type": "code",
   "execution_count": 3,
   "metadata": {},
   "outputs": [
    {
     "data": {
      "text/html": [
       "<div>\n",
       "<style scoped>\n",
       "    .dataframe tbody tr th:only-of-type {\n",
       "        vertical-align: middle;\n",
       "    }\n",
       "\n",
       "    .dataframe tbody tr th {\n",
       "        vertical-align: top;\n",
       "    }\n",
       "\n",
       "    .dataframe thead th {\n",
       "        text-align: right;\n",
       "    }\n",
       "</style>\n",
       "<table border=\"1\" class=\"dataframe\">\n",
       "  <thead>\n",
       "    <tr style=\"text-align: right;\">\n",
       "      <th></th>\n",
       "      <th>movie</th>\n",
       "      <th>title</th>\n",
       "      <th>comment</th>\n",
       "      <th>rating</th>\n",
       "    </tr>\n",
       "    <tr>\n",
       "      <th>id</th>\n",
       "      <th></th>\n",
       "      <th></th>\n",
       "      <th></th>\n",
       "      <th></th>\n",
       "    </tr>\n",
       "  </thead>\n",
       "  <tbody>\n",
       "    <tr>\n",
       "      <th>61d6837c-149a-45be-942f-24c2e54a0103</th>\n",
       "      <td>Avengers: Infinity War</td>\n",
       "      <td>This movie will blow your mind and break your...</td>\n",
       "      <td>Warning: Spoilers</td>\n",
       "      <td>10</td>\n",
       "    </tr>\n",
       "    <tr>\n",
       "      <th>557424fa-9059-4f74-8458-4eac354fac31</th>\n",
       "      <td>Avengers: Infinity War</td>\n",
       "      <td>A Summer Film That IS Even Better Than The Hy...</td>\n",
       "      <td>Warning: Spoilers</td>\n",
       "      <td>10</td>\n",
       "    </tr>\n",
       "    <tr>\n",
       "      <th>2994cd7c-8afb-4f57-9866-0d8ca3ab5988</th>\n",
       "      <td>Avengers: Infinity War</td>\n",
       "      <td>Excellent Film\\n</td>\n",
       "      <td>I was amazed to see so many negative reviews; ...</td>\n",
       "      <td>9</td>\n",
       "    </tr>\n",
       "    <tr>\n",
       "      <th>7a18dcf5-b81d-46fd-9a6c-1e59f4779fcc</th>\n",
       "      <td>Avengers: Infinity War</td>\n",
       "      <td>The amount of people that don't understand th...</td>\n",
       "      <td>All the reviews that say this movie has no plo...</td>\n",
       "      <td>10</td>\n",
       "    </tr>\n",
       "    <tr>\n",
       "      <th>87f58e31-5cd0-4c4d-b808-18ba2c8cd037</th>\n",
       "      <td>Avengers: Infinity War</td>\n",
       "      <td>Epic conclusion to Marvel's first 10 years\\n</td>\n",
       "      <td>Warning: Spoilers</td>\n",
       "      <td>10</td>\n",
       "    </tr>\n",
       "  </tbody>\n",
       "</table>\n",
       "</div>"
      ],
      "text/plain": [
       "                                                       movie  \\\n",
       "id                                                             \n",
       "61d6837c-149a-45be-942f-24c2e54a0103  Avengers: Infinity War   \n",
       "557424fa-9059-4f74-8458-4eac354fac31  Avengers: Infinity War   \n",
       "2994cd7c-8afb-4f57-9866-0d8ca3ab5988  Avengers: Infinity War   \n",
       "7a18dcf5-b81d-46fd-9a6c-1e59f4779fcc  Avengers: Infinity War   \n",
       "87f58e31-5cd0-4c4d-b808-18ba2c8cd037  Avengers: Infinity War   \n",
       "\n",
       "                                                                                  title  \\\n",
       "id                                                                                        \n",
       "61d6837c-149a-45be-942f-24c2e54a0103   This movie will blow your mind and break your...   \n",
       "557424fa-9059-4f74-8458-4eac354fac31   A Summer Film That IS Even Better Than The Hy...   \n",
       "2994cd7c-8afb-4f57-9866-0d8ca3ab5988                                   Excellent Film\\n   \n",
       "7a18dcf5-b81d-46fd-9a6c-1e59f4779fcc   The amount of people that don't understand th...   \n",
       "87f58e31-5cd0-4c4d-b808-18ba2c8cd037       Epic conclusion to Marvel's first 10 years\\n   \n",
       "\n",
       "                                                                                comment  \\\n",
       "id                                                                                        \n",
       "61d6837c-149a-45be-942f-24c2e54a0103                                  Warning: Spoilers   \n",
       "557424fa-9059-4f74-8458-4eac354fac31                                  Warning: Spoilers   \n",
       "2994cd7c-8afb-4f57-9866-0d8ca3ab5988  I was amazed to see so many negative reviews; ...   \n",
       "7a18dcf5-b81d-46fd-9a6c-1e59f4779fcc  All the reviews that say this movie has no plo...   \n",
       "87f58e31-5cd0-4c4d-b808-18ba2c8cd037                                  Warning: Spoilers   \n",
       "\n",
       "                                      rating  \n",
       "id                                            \n",
       "61d6837c-149a-45be-942f-24c2e54a0103      10  \n",
       "557424fa-9059-4f74-8458-4eac354fac31      10  \n",
       "2994cd7c-8afb-4f57-9866-0d8ca3ab5988       9  \n",
       "7a18dcf5-b81d-46fd-9a6c-1e59f4779fcc      10  \n",
       "87f58e31-5cd0-4c4d-b808-18ba2c8cd037      10  "
      ]
     },
     "execution_count": 3,
     "metadata": {},
     "output_type": "execute_result"
    }
   ],
   "source": [
    "df.head()"
   ]
  },
  {
   "cell_type": "code",
   "execution_count": 4,
   "metadata": {},
   "outputs": [
    {
     "data": {
      "text/plain": [
       "movie      36400\n",
       "title      36400\n",
       "comment    36400\n",
       "rating     36400\n",
       "dtype: int64"
      ]
     },
     "execution_count": 4,
     "metadata": {},
     "output_type": "execute_result"
    }
   ],
   "source": [
    "df.count()"
   ]
  },
  {
   "cell_type": "code",
   "execution_count": 5,
   "metadata": {},
   "outputs": [
    {
     "name": "stdout",
     "output_type": "stream",
     "text": [
      "------------- Comentarios por Película ( 30 ) -------------\n"
     ]
    },
    {
     "data": {
      "text/plain": [
       "Avengers: Infinity War                               3571\n",
       "Venom                                                2702\n",
       "Pantera Negra                                        2579\n",
       "El legado del diablo                                 2137\n",
       "Un lugar en silencio                                 2135\n",
       "Han Solo: Una historia de Star Wars                  2052\n",
       "Bohemian Rhapsody                                    1870\n",
       "Ready Player One: Comienza el Juego                  1609\n",
       "Nace una estrella                                    1591\n",
       "Jurassic World: El reino caído                       1502\n",
       "Annihilation                                         1379\n",
       "Mission: Impossible - Fallout                        1312\n",
       "Deadpool 2                                           1084\n",
       "Megalodón                                            1051\n",
       "Tomb Raider: Las aventuras de Lara Croft             1037\n",
       "Animales Fantásticos: Los crímenes de Grindelwald     946\n",
       "Incredibles 2                                         837\n",
       "Ocean's 8: Las estafadoras                            792\n",
       "Operación Red Sparrow                                 768\n",
       "Ant-Man and the Wasp                                  746\n",
       "Upgrade                                               667\n",
       "Titanes del Pacífico: La Insurrección                 604\n",
       "The Cloverfield Paradox                               549\n",
       "Rampage: Devastación                                  522\n",
       "Sicario: El Día Del Soldado                           521\n",
       "Yo soy Simón                                          423\n",
       "Noche de Juegos                                       420\n",
       "Maze Runner: La Cura Mortal                           345\n",
       "El pasajero                                           329\n",
       "Isla de perros                                        320\n",
       "Name: movie, dtype: int64"
      ]
     },
     "execution_count": 5,
     "metadata": {},
     "output_type": "execute_result"
    }
   ],
   "source": [
    "print (\"------------- Comentarios por Película (\" , (len(df[\"movie\"].unique())) , \") -------------\")\n",
    "df[\"movie\"].value_counts()\n"
   ]
  },
  {
   "cell_type": "code",
   "execution_count": 6,
   "metadata": {
    "scrolled": true
   },
   "outputs": [
    {
     "name": "stdout",
     "output_type": "stream",
     "text": [
      "------------- Rating promedio ( 6.641510989010989 ) -------------\n"
     ]
    }
   ],
   "source": [
    "print (\"------------- Rating promedio (\" , (df[\"rating\"].mean()) , \") -------------\")\n"
   ]
  },
  {
   "cell_type": "code",
   "execution_count": 7,
   "metadata": {},
   "outputs": [
    {
     "data": {
      "text/plain": [
       "<matplotlib.axes._subplots.AxesSubplot at 0x10d16e2e8>"
      ]
     },
     "execution_count": 7,
     "metadata": {},
     "output_type": "execute_result"
    },
    {
     "data": {
      "image/png": "[encoded data removed]",
      "text/plain": [
       "<matplotlib.figure.Figure at 0x1100d6c88>"
      ]
     },
     "metadata": {},
     "output_type": "display_data"
    }
   ],
   "source": [
    "df[\"rating\"].hist(bins=50)"
   ]
  },
  {
   "cell_type": "code",
   "execution_count": 8,
   "metadata": {},
   "outputs": [
    {
     "data": {
      "text/plain": [
       "30034"
      ]
     },
     "execution_count": 8,
     "metadata": {},
     "output_type": "execute_result"
    }
   ],
   "source": [
    "len(df.loc[df[\"comment\"]!='Warning: Spoilers'])"
   ]
  },
  {
   "cell_type": "code",
   "execution_count": 9,
   "metadata": {},
   "outputs": [
    {
     "data": {
      "text/plain": [
       "6366"
      ]
     },
     "execution_count": 9,
     "metadata": {},
     "output_type": "execute_result"
    }
   ],
   "source": [
    "len(df.loc[df[\"comment\"]=='Warning: Spoilers'])"
   ]
  },
  {
   "cell_type": "code",
   "execution_count": 35,
   "metadata": {},
   "outputs": [],
   "source": [
    "from nltk.corpus import stopwords \n",
    "from nltk.tokenize import word_tokenize "
   ]
  },
  {
   "cell_type": "code",
   "execution_count": 36,
   "metadata": {},
   "outputs": [],
   "source": [
    "filtered_reviews = []"
   ]
  },
  {
   "cell_type": "code",
   "execution_count": 47,
   "metadata": {},
   "outputs": [],
   "source": [
    "reviews = []\n",
    "for review in df[\"title\"]:\n",
    "    reviews.append(review.rstrip().lower())"
   ]
  },
  {
   "cell_type": "code",
   "execution_count": 49,
   "metadata": {},
   "outputs": [],
   "source": [
    "stop_words = set(stopwords.words('english')) \n",
    "\n",
    "for review in reviews:\n",
    "    word_tokens = word_tokenize(review) \n",
    "    filtered_review = [w.lower() for w in word_tokens if not w in stop_words] \n",
    "    filtered_review = [] \n",
    "    for w in word_tokens: \n",
    "        if w not in stop_words: \n",
    "            filtered_review.append(w)\n",
    "    filtered_reviews.append(filtered_review)"
   ]
  },
  {
   "cell_type": "code",
   "execution_count": 48,
   "metadata": {},
   "outputs": [
    {
     "data": {
      "text/plain": [
       "[' this movie will blow your mind and break your heart - and make you desperate to go back for more. brave, brilliant and better than it has any right to be.',\n",
       " ' a summer film that is even better than the hype',\n",
       " ' excellent film',\n",
       " \" the amount of people that don't understand the movie is astonishing\",\n",
       " \" epic conclusion to marvel's first 10 years\",\n",
       " ' again a fight, but bigger',\n",
       " ' overrated and bloated',\n",
       " ' the best superhero movie ever!!',\n",
       " ' an objective review of avengers: infinity war',\n",
       " ' great popcorn film, surprises the series with fresh takes']"
      ]
     },
     "execution_count": 48,
     "metadata": {},
     "output_type": "execute_result"
    }
   ],
   "source": [
    "reviews[:10]"
   ]
  },
  {
   "cell_type": "code",
   "execution_count": 50,
   "metadata": {},
   "outputs": [
    {
     "data": {
      "text/plain": [
       "[['movie',\n",
       "  'blow',\n",
       "  'mind',\n",
       "  'break',\n",
       "  'heart',\n",
       "  '-',\n",
       "  'make',\n",
       "  'desperate',\n",
       "  'go',\n",
       "  'back',\n",
       "  '.',\n",
       "  'brave',\n",
       "  ',',\n",
       "  'brilliant',\n",
       "  'better',\n",
       "  'right',\n",
       "  '.'],\n",
       " ['summer', 'film', 'even', 'better', 'hype'],\n",
       " ['excellent', 'film'],\n",
       " ['amount', 'people', \"n't\", 'understand', 'movie', 'astonishing'],\n",
       " ['epic', 'conclusion', 'marvel', \"'s\", 'first', '10', 'years'],\n",
       " ['fight', ',', 'bigger'],\n",
       " ['overrated', 'bloated'],\n",
       " ['best', 'superhero', 'movie', 'ever', '!', '!'],\n",
       " ['objective', 'review', 'avengers', ':', 'infinity', 'war'],\n",
       " ['great', 'popcorn', 'film', ',', 'surprises', 'series', 'fresh', 'takes']]"
      ]
     },
     "execution_count": 50,
     "metadata": {},
     "output_type": "execute_result"
    }
   ],
   "source": [
    "filtered_reviews[:10]"
   ]
  }
 ],
 "metadata": {
  "kernelspec": {
   "display_name": "Python 3",
   "language": "python",
   "name": "python3"
  },
  "language_info": {
   "codemirror_mode": {
    "name": "ipython",
    "version": 3
   },
   "file_extension": ".py",
   "mimetype": "text/x-python",
   "name": "python",
   "nbconvert_exporter": "python",
   "pygments_lexer": "ipython3",
   "version": "3.6.4"
  }
 },
 "nbformat": 4,
 "nbformat_minor": 2
}
